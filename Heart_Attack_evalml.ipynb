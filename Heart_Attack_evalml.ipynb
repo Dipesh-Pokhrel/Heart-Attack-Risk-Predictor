{
  "cells": [
    {
      "cell_type": "markdown",
      "metadata": {
        "id": "XIzABHTAkTOI"
      },
      "source": [
        "##### Load our Dataset:"
      ]
    },
    {
      "cell_type": "code",
      "execution_count": 1,
      "metadata": {
        "id": "e82-ZGs_kgpg"
      },
      "outputs": [],
      "source": [
        "import pandas as pd\n",
        "from sklearn.preprocessing import LabelEncoder\n",
        "import evalml\n",
        "from evalml.automl import AutoMLSearch"
      ]
    },
    {
      "cell_type": "code",
      "execution_count": 2,
      "metadata": {
        "colab": {
          "base_uri": "https://localhost:8080/",
          "height": 206
        },
        "id": "th1nE8hkiJsK",
        "outputId": "ec82ba1a-652b-47d5-97fb-a5839583fee8"
      },
      "outputs": [
        {
          "data": {
            "text/html": [
              "<div>\n",
              "<style scoped>\n",
              "    .dataframe tbody tr th:only-of-type {\n",
              "        vertical-align: middle;\n",
              "    }\n",
              "\n",
              "    .dataframe tbody tr th {\n",
              "        vertical-align: top;\n",
              "    }\n",
              "\n",
              "    .dataframe thead th {\n",
              "        text-align: right;\n",
              "    }\n",
              "</style>\n",
              "<table border=\"1\" class=\"dataframe\">\n",
              "  <thead>\n",
              "    <tr style=\"text-align: right;\">\n",
              "      <th></th>\n",
              "      <th>age</th>\n",
              "      <th>sex</th>\n",
              "      <th>cp</th>\n",
              "      <th>trtbps</th>\n",
              "      <th>chol</th>\n",
              "      <th>fbs</th>\n",
              "      <th>restecg</th>\n",
              "      <th>thalachh</th>\n",
              "      <th>exng</th>\n",
              "      <th>oldpeak</th>\n",
              "      <th>slp</th>\n",
              "      <th>caa</th>\n",
              "      <th>thall</th>\n",
              "      <th>output</th>\n",
              "    </tr>\n",
              "  </thead>\n",
              "  <tbody>\n",
              "    <tr>\n",
              "      <th>0</th>\n",
              "      <td>63</td>\n",
              "      <td>1</td>\n",
              "      <td>3</td>\n",
              "      <td>145</td>\n",
              "      <td>233</td>\n",
              "      <td>1</td>\n",
              "      <td>0</td>\n",
              "      <td>150</td>\n",
              "      <td>0</td>\n",
              "      <td>2.3</td>\n",
              "      <td>0</td>\n",
              "      <td>0</td>\n",
              "      <td>1</td>\n",
              "      <td>1</td>\n",
              "    </tr>\n",
              "    <tr>\n",
              "      <th>1</th>\n",
              "      <td>37</td>\n",
              "      <td>1</td>\n",
              "      <td>2</td>\n",
              "      <td>130</td>\n",
              "      <td>250</td>\n",
              "      <td>0</td>\n",
              "      <td>1</td>\n",
              "      <td>187</td>\n",
              "      <td>0</td>\n",
              "      <td>3.5</td>\n",
              "      <td>0</td>\n",
              "      <td>0</td>\n",
              "      <td>2</td>\n",
              "      <td>1</td>\n",
              "    </tr>\n",
              "    <tr>\n",
              "      <th>2</th>\n",
              "      <td>41</td>\n",
              "      <td>0</td>\n",
              "      <td>1</td>\n",
              "      <td>130</td>\n",
              "      <td>204</td>\n",
              "      <td>0</td>\n",
              "      <td>0</td>\n",
              "      <td>172</td>\n",
              "      <td>0</td>\n",
              "      <td>1.4</td>\n",
              "      <td>2</td>\n",
              "      <td>0</td>\n",
              "      <td>2</td>\n",
              "      <td>1</td>\n",
              "    </tr>\n",
              "    <tr>\n",
              "      <th>3</th>\n",
              "      <td>56</td>\n",
              "      <td>1</td>\n",
              "      <td>1</td>\n",
              "      <td>120</td>\n",
              "      <td>236</td>\n",
              "      <td>0</td>\n",
              "      <td>1</td>\n",
              "      <td>178</td>\n",
              "      <td>0</td>\n",
              "      <td>0.8</td>\n",
              "      <td>2</td>\n",
              "      <td>0</td>\n",
              "      <td>2</td>\n",
              "      <td>1</td>\n",
              "    </tr>\n",
              "    <tr>\n",
              "      <th>4</th>\n",
              "      <td>57</td>\n",
              "      <td>0</td>\n",
              "      <td>0</td>\n",
              "      <td>120</td>\n",
              "      <td>354</td>\n",
              "      <td>0</td>\n",
              "      <td>1</td>\n",
              "      <td>163</td>\n",
              "      <td>1</td>\n",
              "      <td>0.6</td>\n",
              "      <td>2</td>\n",
              "      <td>0</td>\n",
              "      <td>2</td>\n",
              "      <td>1</td>\n",
              "    </tr>\n",
              "  </tbody>\n",
              "</table>\n",
              "</div>"
            ],
            "text/plain": [
              "   age  sex  cp  trtbps  chol  fbs  restecg  thalachh  exng  oldpeak  slp  \\\n",
              "0   63    1   3     145   233    1        0       150     0      2.3    0   \n",
              "1   37    1   2     130   250    0        1       187     0      3.5    0   \n",
              "2   41    0   1     130   204    0        0       172     0      1.4    2   \n",
              "3   56    1   1     120   236    0        1       178     0      0.8    2   \n",
              "4   57    0   0     120   354    0        1       163     1      0.6    2   \n",
              "\n",
              "   caa  thall  output  \n",
              "0    0      1       1  \n",
              "1    0      2       1  \n",
              "2    0      2       1  \n",
              "3    0      2       1  \n",
              "4    0      2       1  "
            ]
          },
          "execution_count": 2,
          "metadata": {},
          "output_type": "execute_result"
        }
      ],
      "source": [
        "df = pd.read_csv(\"heart.csv\")\n",
        "df.head()"
      ]
    },
    {
      "cell_type": "code",
      "execution_count": 3,
      "metadata": {
        "colab": {
          "base_uri": "https://localhost:8080/",
          "height": 206
        },
        "id": "RjTwZzsikieX",
        "outputId": "aa60d4f6-c036-49f3-d3c6-95432d2e008b"
      },
      "outputs": [
        {
          "data": {
            "text/html": [
              "<div>\n",
              "<style scoped>\n",
              "    .dataframe tbody tr th:only-of-type {\n",
              "        vertical-align: middle;\n",
              "    }\n",
              "\n",
              "    .dataframe tbody tr th {\n",
              "        vertical-align: top;\n",
              "    }\n",
              "\n",
              "    .dataframe thead th {\n",
              "        text-align: right;\n",
              "    }\n",
              "</style>\n",
              "<table border=\"1\" class=\"dataframe\">\n",
              "  <thead>\n",
              "    <tr style=\"text-align: right;\">\n",
              "      <th></th>\n",
              "      <th>age</th>\n",
              "      <th>sex</th>\n",
              "      <th>cp</th>\n",
              "      <th>trtbps</th>\n",
              "      <th>chol</th>\n",
              "      <th>fbs</th>\n",
              "      <th>restecg</th>\n",
              "      <th>thalachh</th>\n",
              "      <th>exng</th>\n",
              "      <th>oldpeak</th>\n",
              "      <th>slp</th>\n",
              "      <th>caa</th>\n",
              "      <th>thall</th>\n",
              "    </tr>\n",
              "  </thead>\n",
              "  <tbody>\n",
              "    <tr>\n",
              "      <th>0</th>\n",
              "      <td>63</td>\n",
              "      <td>1</td>\n",
              "      <td>3</td>\n",
              "      <td>145</td>\n",
              "      <td>233</td>\n",
              "      <td>1</td>\n",
              "      <td>0</td>\n",
              "      <td>150</td>\n",
              "      <td>0</td>\n",
              "      <td>2.3</td>\n",
              "      <td>0</td>\n",
              "      <td>0</td>\n",
              "      <td>1</td>\n",
              "    </tr>\n",
              "    <tr>\n",
              "      <th>1</th>\n",
              "      <td>37</td>\n",
              "      <td>1</td>\n",
              "      <td>2</td>\n",
              "      <td>130</td>\n",
              "      <td>250</td>\n",
              "      <td>0</td>\n",
              "      <td>1</td>\n",
              "      <td>187</td>\n",
              "      <td>0</td>\n",
              "      <td>3.5</td>\n",
              "      <td>0</td>\n",
              "      <td>0</td>\n",
              "      <td>2</td>\n",
              "    </tr>\n",
              "    <tr>\n",
              "      <th>2</th>\n",
              "      <td>41</td>\n",
              "      <td>0</td>\n",
              "      <td>1</td>\n",
              "      <td>130</td>\n",
              "      <td>204</td>\n",
              "      <td>0</td>\n",
              "      <td>0</td>\n",
              "      <td>172</td>\n",
              "      <td>0</td>\n",
              "      <td>1.4</td>\n",
              "      <td>2</td>\n",
              "      <td>0</td>\n",
              "      <td>2</td>\n",
              "    </tr>\n",
              "    <tr>\n",
              "      <th>3</th>\n",
              "      <td>56</td>\n",
              "      <td>1</td>\n",
              "      <td>1</td>\n",
              "      <td>120</td>\n",
              "      <td>236</td>\n",
              "      <td>0</td>\n",
              "      <td>1</td>\n",
              "      <td>178</td>\n",
              "      <td>0</td>\n",
              "      <td>0.8</td>\n",
              "      <td>2</td>\n",
              "      <td>0</td>\n",
              "      <td>2</td>\n",
              "    </tr>\n",
              "    <tr>\n",
              "      <th>4</th>\n",
              "      <td>57</td>\n",
              "      <td>0</td>\n",
              "      <td>0</td>\n",
              "      <td>120</td>\n",
              "      <td>354</td>\n",
              "      <td>0</td>\n",
              "      <td>1</td>\n",
              "      <td>163</td>\n",
              "      <td>1</td>\n",
              "      <td>0.6</td>\n",
              "      <td>2</td>\n",
              "      <td>0</td>\n",
              "      <td>2</td>\n",
              "    </tr>\n",
              "  </tbody>\n",
              "</table>\n",
              "</div>"
            ],
            "text/plain": [
              "   age  sex  cp  trtbps  chol  fbs  restecg  thalachh  exng  oldpeak  slp  \\\n",
              "0   63    1   3     145   233    1        0       150     0      2.3    0   \n",
              "1   37    1   2     130   250    0        1       187     0      3.5    0   \n",
              "2   41    0   1     130   204    0        0       172     0      1.4    2   \n",
              "3   56    1   1     120   236    0        1       178     0      0.8    2   \n",
              "4   57    0   0     120   354    0        1       163     1      0.6    2   \n",
              "\n",
              "   caa  thall  \n",
              "0    0      1  \n",
              "1    0      2  \n",
              "2    0      2  \n",
              "3    0      2  \n",
              "4    0      2  "
            ]
          },
          "execution_count": 3,
          "metadata": {},
          "output_type": "execute_result"
        }
      ],
      "source": [
        "x = df.iloc[:, :-1]\n",
        "x.head()"
      ]
    },
    {
      "cell_type": "code",
      "execution_count": 4,
      "metadata": {
        "id": "PjfPYP6ZqfBt"
      },
      "outputs": [],
      "source": [
        "lbl = LabelEncoder()"
      ]
    },
    {
      "cell_type": "code",
      "execution_count": 5,
      "metadata": {
        "colab": {
          "base_uri": "https://localhost:8080/"
        },
        "id": "cQsuT42pkxA_",
        "outputId": "0a952925-397c-4326-fec7-5b57d5f85157"
      },
      "outputs": [
        {
          "name": "stderr",
          "output_type": "stream",
          "text": [
            "A column-vector y was passed when a 1d array was expected. Please change the shape of y to (n_samples, ), for example using ravel().\n"
          ]
        },
        {
          "data": {
            "text/plain": [
              "array([1, 1, 1, 1, 1, 1, 1, 1, 1, 1, 1, 1, 1, 1, 1, 1, 1, 1, 1, 1, 1, 1,\n",
              "       1, 1, 1, 1, 1, 1, 1, 1, 1, 1, 1, 1, 1, 1, 1, 1, 1, 1, 1, 1, 1, 1,\n",
              "       1, 1, 1, 1, 1, 1, 1, 1, 1, 1, 1, 1, 1, 1, 1, 1, 1, 1, 1, 1, 1, 1,\n",
              "       1, 1, 1, 1, 1, 1, 1, 1, 1, 1, 1, 1, 1, 1, 1, 1, 1, 1, 1, 1, 1, 1,\n",
              "       1, 1, 1, 1, 1, 1, 1, 1, 1, 1, 1, 1, 1, 1, 1, 1, 1, 1, 1, 1, 1, 1,\n",
              "       1, 1, 1, 1, 1, 1, 1, 1, 1, 1, 1, 1, 1, 1, 1, 1, 1, 1, 1, 1, 1, 1,\n",
              "       1, 1, 1, 1, 1, 1, 1, 1, 1, 1, 1, 1, 1, 1, 1, 1, 1, 1, 1, 1, 1, 1,\n",
              "       1, 1, 1, 1, 1, 1, 1, 1, 1, 1, 1, 0, 0, 0, 0, 0, 0, 0, 0, 0, 0, 0,\n",
              "       0, 0, 0, 0, 0, 0, 0, 0, 0, 0, 0, 0, 0, 0, 0, 0, 0, 0, 0, 0, 0, 0,\n",
              "       0, 0, 0, 0, 0, 0, 0, 0, 0, 0, 0, 0, 0, 0, 0, 0, 0, 0, 0, 0, 0, 0,\n",
              "       0, 0, 0, 0, 0, 0, 0, 0, 0, 0, 0, 0, 0, 0, 0, 0, 0, 0, 0, 0, 0, 0,\n",
              "       0, 0, 0, 0, 0, 0, 0, 0, 0, 0, 0, 0, 0, 0, 0, 0, 0, 0, 0, 0, 0, 0,\n",
              "       0, 0, 0, 0, 0, 0, 0, 0, 0, 0, 0, 0, 0, 0, 0, 0, 0, 0, 0, 0, 0, 0,\n",
              "       0, 0, 0, 0, 0, 0, 0, 0, 0, 0, 0, 0, 0, 0, 0, 0, 0], dtype=int64)"
            ]
          },
          "execution_count": 5,
          "metadata": {},
          "output_type": "execute_result"
        }
      ],
      "source": [
        "y = df.iloc[:, -1:]\n",
        "y = lbl.fit_transform(y)\n",
        "y"
      ]
    },
    {
      "cell_type": "markdown",
      "metadata": {
        "id": "YQINsHihmNY_"
      },
      "source": [
        "Eval ML Library will do the pre processing for us and split the data for us."
      ]
    },
    {
      "cell_type": "code",
      "execution_count": 6,
      "metadata": {
        "id": "FHOKg2CQlXVo"
      },
      "outputs": [],
      "source": [
        "X_train, X_test, y_train, y_test = evalml.preprocessing.split_data(x,y, problem_type='binary')"
      ]
    },
    {
      "cell_type": "markdown",
      "metadata": {
        "id": "TE2NOk_Tmihn"
      },
      "source": [
        "There are different problem types parameters in Eval ML, we have a Binary type problem here, that's why we are using Binary as a input."
      ]
    },
    {
      "cell_type": "code",
      "execution_count": 7,
      "metadata": {
        "colab": {
          "base_uri": "https://localhost:8080/"
        },
        "id": "GKYBJTx4mhH1",
        "outputId": "c562dfa4-fc6a-4864-c16f-e39f22ef3065"
      },
      "outputs": [
        {
          "data": {
            "text/plain": [
              "[<ProblemTypes.BINARY: 'binary'>,\n",
              " <ProblemTypes.MULTICLASS: 'multiclass'>,\n",
              " <ProblemTypes.REGRESSION: 'regression'>,\n",
              " <ProblemTypes.TIME_SERIES_REGRESSION: 'time series regression'>,\n",
              " <ProblemTypes.TIME_SERIES_BINARY: 'time series binary'>,\n",
              " <ProblemTypes.TIME_SERIES_MULTICLASS: 'time series multiclass'>]"
            ]
          },
          "execution_count": 7,
          "metadata": {},
          "output_type": "execute_result"
        }
      ],
      "source": [
        "evalml.problem_types.ProblemTypes.all_problem_types"
      ]
    },
    {
      "cell_type": "markdown",
      "metadata": {
        "id": "cR62JniMnHxP"
      },
      "source": [
        "**Running the Auto ML to select best Algormith**"
      ]
    },
    {
      "cell_type": "code",
      "execution_count": 8,
      "metadata": {
        "id": "ZkRiAcWBm2Fl"
      },
      "outputs": [],
      "source": [
        "automl = AutoMLSearch(X_train = X_train, y_train = y_train, problem_type='binary')"
      ]
    },
    {
      "cell_type": "code",
      "execution_count": 9,
      "metadata": {
        "colab": {
          "base_uri": "https://localhost:8080/",
          "height": 1000
        },
        "id": "DfFb2RCDrUrt",
        "outputId": "1394740b-f15a-460e-af66-4030f02ee77f"
      },
      "outputs": [
        {
          "name": "stderr",
          "output_type": "stream",
          "text": [
            "\tHigh coefficient of variation (cv >= 0.5) within cross validation scores.\n",
            "\tDecision Tree Classifier w/ Label Encoder + Imputer + Select Columns Transformer may not perform as estimated on unseen data.\n"
          ]
        }
      ],
      "source": [
        "automl.search()"
      ]
    },
    {
      "cell_type": "code",
      "execution_count": 10,
      "metadata": {},
      "outputs": [
        {
          "data": {
            "text/html": [
              "<div>\n",
              "<style scoped>\n",
              "    .dataframe tbody tr th:only-of-type {\n",
              "        vertical-align: middle;\n",
              "    }\n",
              "\n",
              "    .dataframe tbody tr th {\n",
              "        vertical-align: top;\n",
              "    }\n",
              "\n",
              "    .dataframe thead th {\n",
              "        text-align: right;\n",
              "    }\n",
              "</style>\n",
              "<table border=\"1\" class=\"dataframe\">\n",
              "  <thead>\n",
              "    <tr style=\"text-align: right;\">\n",
              "      <th></th>\n",
              "      <th>id</th>\n",
              "      <th>pipeline_name</th>\n",
              "      <th>search_order</th>\n",
              "      <th>mean_cv_score</th>\n",
              "      <th>standard_deviation_cv_score</th>\n",
              "      <th>validation_score</th>\n",
              "      <th>percent_better_than_baseline</th>\n",
              "      <th>high_variance_cv</th>\n",
              "      <th>parameters</th>\n",
              "    </tr>\n",
              "  </thead>\n",
              "  <tbody>\n",
              "    <tr>\n",
              "      <th>0</th>\n",
              "      <td>7</td>\n",
              "      <td>Extra Trees Classifier w/ Label Encoder + Impu...</td>\n",
              "      <td>7</td>\n",
              "      <td>0.413358</td>\n",
              "      <td>0.029595</td>\n",
              "      <td>0.413358</td>\n",
              "      <td>97.366943</td>\n",
              "      <td>False</td>\n",
              "      <td>{'Label Encoder': {'positive_label': None}, 'I...</td>\n",
              "    </tr>\n",
              "    <tr>\n",
              "      <th>1</th>\n",
              "      <td>2</td>\n",
              "      <td>Random Forest Classifier w/ Label Encoder + Im...</td>\n",
              "      <td>2</td>\n",
              "      <td>0.420733</td>\n",
              "      <td>0.032101</td>\n",
              "      <td>0.420733</td>\n",
              "      <td>97.319964</td>\n",
              "      <td>False</td>\n",
              "      <td>{'Label Encoder': {'positive_label': None}, 'I...</td>\n",
              "    </tr>\n",
              "    <tr>\n",
              "      <th>2</th>\n",
              "      <td>6</td>\n",
              "      <td>LightGBM Classifier w/ Label Encoder + Imputer...</td>\n",
              "      <td>6</td>\n",
              "      <td>0.462099</td>\n",
              "      <td>0.066745</td>\n",
              "      <td>0.462099</td>\n",
              "      <td>97.056469</td>\n",
              "      <td>False</td>\n",
              "      <td>{'Label Encoder': {'positive_label': None}, 'I...</td>\n",
              "    </tr>\n",
              "    <tr>\n",
              "      <th>3</th>\n",
              "      <td>4</td>\n",
              "      <td>Random Forest Classifier w/ Label Encoder + Im...</td>\n",
              "      <td>4</td>\n",
              "      <td>0.466918</td>\n",
              "      <td>0.024541</td>\n",
              "      <td>0.466918</td>\n",
              "      <td>97.025773</td>\n",
              "      <td>False</td>\n",
              "      <td>{'Label Encoder': {'positive_label': None}, 'I...</td>\n",
              "    </tr>\n",
              "    <tr>\n",
              "      <th>4</th>\n",
              "      <td>8</td>\n",
              "      <td>Elastic Net Classifier w/ Label Encoder + Impu...</td>\n",
              "      <td>8</td>\n",
              "      <td>0.470037</td>\n",
              "      <td>0.075389</td>\n",
              "      <td>0.470037</td>\n",
              "      <td>97.005905</td>\n",
              "      <td>False</td>\n",
              "      <td>{'Label Encoder': {'positive_label': None}, 'I...</td>\n",
              "    </tr>\n",
              "    <tr>\n",
              "      <th>5</th>\n",
              "      <td>10</td>\n",
              "      <td>XGBoost Classifier w/ Label Encoder + Imputer ...</td>\n",
              "      <td>10</td>\n",
              "      <td>0.488356</td>\n",
              "      <td>0.042491</td>\n",
              "      <td>0.488356</td>\n",
              "      <td>96.889214</td>\n",
              "      <td>False</td>\n",
              "      <td>{'Label Encoder': {'positive_label': None}, 'I...</td>\n",
              "    </tr>\n",
              "    <tr>\n",
              "      <th>6</th>\n",
              "      <td>1</td>\n",
              "      <td>Logistic Regression Classifier w/ Label Encode...</td>\n",
              "      <td>1</td>\n",
              "      <td>0.489726</td>\n",
              "      <td>0.058300</td>\n",
              "      <td>0.489726</td>\n",
              "      <td>96.880485</td>\n",
              "      <td>False</td>\n",
              "      <td>{'Label Encoder': {'positive_label': None}, 'I...</td>\n",
              "    </tr>\n",
              "    <tr>\n",
              "      <th>7</th>\n",
              "      <td>3</td>\n",
              "      <td>Logistic Regression Classifier w/ Label Encode...</td>\n",
              "      <td>3</td>\n",
              "      <td>0.526695</td>\n",
              "      <td>0.022981</td>\n",
              "      <td>0.526695</td>\n",
              "      <td>96.644997</td>\n",
              "      <td>False</td>\n",
              "      <td>{'Label Encoder': {'positive_label': None}, 'I...</td>\n",
              "    </tr>\n",
              "    <tr>\n",
              "      <th>8</th>\n",
              "      <td>9</td>\n",
              "      <td>CatBoost Classifier w/ Label Encoder + Imputer...</td>\n",
              "      <td>9</td>\n",
              "      <td>0.638074</td>\n",
              "      <td>0.006335</td>\n",
              "      <td>0.638074</td>\n",
              "      <td>95.935522</td>\n",
              "      <td>False</td>\n",
              "      <td>{'Label Encoder': {'positive_label': None}, 'I...</td>\n",
              "    </tr>\n",
              "    <tr>\n",
              "      <th>9</th>\n",
              "      <td>5</td>\n",
              "      <td>Decision Tree Classifier w/ Label Encoder + Im...</td>\n",
              "      <td>5</td>\n",
              "      <td>6.429347</td>\n",
              "      <td>2.401983</td>\n",
              "      <td>6.429347</td>\n",
              "      <td>59.045611</td>\n",
              "      <td>True</td>\n",
              "      <td>{'Label Encoder': {'positive_label': None}, 'I...</td>\n",
              "    </tr>\n",
              "    <tr>\n",
              "      <th>10</th>\n",
              "      <td>0</td>\n",
              "      <td>Mode Baseline Binary Classification Pipeline</td>\n",
              "      <td>0</td>\n",
              "      <td>15.698798</td>\n",
              "      <td>0.135402</td>\n",
              "      <td>15.698798</td>\n",
              "      <td>0.000000</td>\n",
              "      <td>False</td>\n",
              "      <td>{'Label Encoder': {'positive_label': None}, 'B...</td>\n",
              "    </tr>\n",
              "  </tbody>\n",
              "</table>\n",
              "</div>"
            ],
            "text/plain": [
              "    id                                      pipeline_name  search_order  \\\n",
              "0    7  Extra Trees Classifier w/ Label Encoder + Impu...             7   \n",
              "1    2  Random Forest Classifier w/ Label Encoder + Im...             2   \n",
              "2    6  LightGBM Classifier w/ Label Encoder + Imputer...             6   \n",
              "3    4  Random Forest Classifier w/ Label Encoder + Im...             4   \n",
              "4    8  Elastic Net Classifier w/ Label Encoder + Impu...             8   \n",
              "5   10  XGBoost Classifier w/ Label Encoder + Imputer ...            10   \n",
              "6    1  Logistic Regression Classifier w/ Label Encode...             1   \n",
              "7    3  Logistic Regression Classifier w/ Label Encode...             3   \n",
              "8    9  CatBoost Classifier w/ Label Encoder + Imputer...             9   \n",
              "9    5  Decision Tree Classifier w/ Label Encoder + Im...             5   \n",
              "10   0       Mode Baseline Binary Classification Pipeline             0   \n",
              "\n",
              "    mean_cv_score  standard_deviation_cv_score  validation_score  \\\n",
              "0        0.413358                     0.029595          0.413358   \n",
              "1        0.420733                     0.032101          0.420733   \n",
              "2        0.462099                     0.066745          0.462099   \n",
              "3        0.466918                     0.024541          0.466918   \n",
              "4        0.470037                     0.075389          0.470037   \n",
              "5        0.488356                     0.042491          0.488356   \n",
              "6        0.489726                     0.058300          0.489726   \n",
              "7        0.526695                     0.022981          0.526695   \n",
              "8        0.638074                     0.006335          0.638074   \n",
              "9        6.429347                     2.401983          6.429347   \n",
              "10      15.698798                     0.135402         15.698798   \n",
              "\n",
              "    percent_better_than_baseline  high_variance_cv  \\\n",
              "0                      97.366943             False   \n",
              "1                      97.319964             False   \n",
              "2                      97.056469             False   \n",
              "3                      97.025773             False   \n",
              "4                      97.005905             False   \n",
              "5                      96.889214             False   \n",
              "6                      96.880485             False   \n",
              "7                      96.644997             False   \n",
              "8                      95.935522             False   \n",
              "9                      59.045611              True   \n",
              "10                      0.000000             False   \n",
              "\n",
              "                                           parameters  \n",
              "0   {'Label Encoder': {'positive_label': None}, 'I...  \n",
              "1   {'Label Encoder': {'positive_label': None}, 'I...  \n",
              "2   {'Label Encoder': {'positive_label': None}, 'I...  \n",
              "3   {'Label Encoder': {'positive_label': None}, 'I...  \n",
              "4   {'Label Encoder': {'positive_label': None}, 'I...  \n",
              "5   {'Label Encoder': {'positive_label': None}, 'I...  \n",
              "6   {'Label Encoder': {'positive_label': None}, 'I...  \n",
              "7   {'Label Encoder': {'positive_label': None}, 'I...  \n",
              "8   {'Label Encoder': {'positive_label': None}, 'I...  \n",
              "9   {'Label Encoder': {'positive_label': None}, 'I...  \n",
              "10  {'Label Encoder': {'positive_label': None}, 'B...  "
            ]
          },
          "execution_count": 10,
          "metadata": {},
          "output_type": "execute_result"
        }
      ],
      "source": [
        "automl.rankings"
      ]
    },
    {
      "cell_type": "code",
      "execution_count": 11,
      "metadata": {},
      "outputs": [
        {
          "data": {
            "text/plain": [
              "pipeline = BinaryClassificationPipeline(component_graph={'Label Encoder': ['Label Encoder', 'X', 'y'], 'Imputer': ['Imputer', 'X', 'Label Encoder.y'], 'Select Columns Transformer': ['Select Columns Transformer', 'Imputer.x', 'Label Encoder.y'], 'Extra Trees Classifier': ['Extra Trees Classifier', 'Select Columns Transformer.x', 'Label Encoder.y']}, parameters={'Label Encoder':{'positive_label': None}, 'Imputer':{'categorical_impute_strategy': 'most_frequent', 'numeric_impute_strategy': 'mean', 'categorical_fill_value': None, 'numeric_fill_value': None}, 'Select Columns Transformer':{'columns': ['age', 'cp', 'thalachh', 'exng', 'oldpeak', 'caa', 'thall']}, 'Extra Trees Classifier':{'n_estimators': 100, 'max_features': 'auto', 'max_depth': 6, 'min_samples_split': 2, 'min_weight_fraction_leaf': 0.0, 'n_jobs': -1}}, random_seed=0)"
            ]
          },
          "execution_count": 11,
          "metadata": {},
          "output_type": "execute_result"
        }
      ],
      "source": [
        "automl.best_pipeline"
      ]
    },
    {
      "cell_type": "markdown",
      "metadata": {},
      "source": [
        "we will store it in a model called 'best_pipeline"
      ]
    },
    {
      "cell_type": "code",
      "execution_count": 12,
      "metadata": {},
      "outputs": [],
      "source": [
        "best_pipeline = automl.best_pipeline"
      ]
    },
    {
      "cell_type": "markdown",
      "metadata": {},
      "source": [
        "We can have a Detailed description of our best selected model"
      ]
    },
    {
      "cell_type": "code",
      "execution_count": 13,
      "metadata": {},
      "outputs": [
        {
          "name": "stdout",
          "output_type": "stream",
          "text": [
            "\n",
            "**********************************************************************************\n",
            "* Extra Trees Classifier w/ Label Encoder + Imputer + Select Columns Transformer *\n",
            "**********************************************************************************\n",
            "\n",
            "Problem Type: binary\n",
            "Model Family: Extra Trees\n",
            "\n",
            "Pipeline Steps\n",
            "==============\n",
            "1. Label Encoder\n",
            "\t * positive_label : None\n",
            "2. Imputer\n",
            "\t * categorical_impute_strategy : most_frequent\n",
            "\t * numeric_impute_strategy : mean\n",
            "\t * categorical_fill_value : None\n",
            "\t * numeric_fill_value : None\n",
            "3. Select Columns Transformer\n",
            "\t * columns : ['age', 'cp', 'thalachh', 'exng', 'oldpeak', 'caa', 'thall']\n",
            "4. Extra Trees Classifier\n",
            "\t * n_estimators : 100\n",
            "\t * max_features : auto\n",
            "\t * max_depth : 6\n",
            "\t * min_samples_split : 2\n",
            "\t * min_weight_fraction_leaf : 0.0\n",
            "\t * n_jobs : -1\n",
            "\n",
            "Training\n",
            "========\n",
            "Training for binary problems.\n",
            "Total training time (including CV): 2.1 seconds\n",
            "\n",
            "Cross Validation\n",
            "----------------\n",
            "             Log Loss Binary  MCC Binary  Gini   AUC  Precision    F1  Balanced Accuracy Binary  Accuracy Binary # Training # Validation\n",
            "0                      0.380       0.604 0.844 0.922      0.839 0.765                     0.795            0.802        161           81\n",
            "1                      0.424       0.580 0.776 0.888      0.833 0.746                     0.781            0.790        161           81\n",
            "2                      0.436       0.597 0.746 0.873      0.833 0.758                     0.790            0.800        162           80\n",
            "mean                   0.413       0.593 0.789 0.894      0.835 0.756                     0.789            0.798          -            -\n",
            "std                    0.030       0.012 0.050 0.025      0.003 0.009                     0.007            0.007          -            -\n",
            "coef of var            0.072       0.021 0.063 0.028      0.004 0.012                     0.009            0.008          -            -\n"
          ]
        }
      ],
      "source": [
        "automl.describe_pipeline(automl.rankings.iloc[0][\"id\"])"
      ]
    },
    {
      "cell_type": "code",
      "execution_count": 14,
      "metadata": {},
      "outputs": [
        {
          "data": {
            "text/plain": [
              "OrderedDict([('AUC', 0.8701298701298702),\n",
              "             ('F1', 0.7812499999999999),\n",
              "             ('Precision', 0.8064516129032258),\n",
              "             ('Recall', 0.7575757575757576)])"
            ]
          },
          "execution_count": 14,
          "metadata": {},
          "output_type": "execute_result"
        }
      ],
      "source": [
        "best_pipeline.score(X_test, y_test, objectives=[\"auc\", \"f1\", \"Precision\", \"Recall\"])"
      ]
    },
    {
      "cell_type": "markdown",
      "metadata": {},
      "source": [
        "Now if we want to build our Model for a specific objective we can do that."
      ]
    },
    {
      "cell_type": "code",
      "execution_count": 15,
      "metadata": {},
      "outputs": [],
      "source": [
        "automl_auc = AutoMLSearch(X_train, y_train=y_train,\n",
        "                        problem_type='binary',\n",
        "                        objective='auc',\n",
        "                        additional_objectives=[\"f1\", \"Precision\"], \n",
        "                        max_batches=1,\n",
        "                        optimize_thresholds=True)\n",
        "automl_auc.search()"
      ]
    },
    {
      "cell_type": "code",
      "execution_count": 16,
      "metadata": {},
      "outputs": [
        {
          "data": {
            "text/html": [
              "<div>\n",
              "<style scoped>\n",
              "    .dataframe tbody tr th:only-of-type {\n",
              "        vertical-align: middle;\n",
              "    }\n",
              "\n",
              "    .dataframe tbody tr th {\n",
              "        vertical-align: top;\n",
              "    }\n",
              "\n",
              "    .dataframe thead th {\n",
              "        text-align: right;\n",
              "    }\n",
              "</style>\n",
              "<table border=\"1\" class=\"dataframe\">\n",
              "  <thead>\n",
              "    <tr style=\"text-align: right;\">\n",
              "      <th></th>\n",
              "      <th>id</th>\n",
              "      <th>pipeline_name</th>\n",
              "      <th>search_order</th>\n",
              "      <th>mean_cv_score</th>\n",
              "      <th>standard_deviation_cv_score</th>\n",
              "      <th>validation_score</th>\n",
              "      <th>percent_better_than_baseline</th>\n",
              "      <th>high_variance_cv</th>\n",
              "      <th>parameters</th>\n",
              "    </tr>\n",
              "  </thead>\n",
              "  <tbody>\n",
              "    <tr>\n",
              "      <th>0</th>\n",
              "      <td>2</td>\n",
              "      <td>Random Forest Classifier w/ Label Encoder + Im...</td>\n",
              "      <td>2</td>\n",
              "      <td>0.891494</td>\n",
              "      <td>0.023837</td>\n",
              "      <td>0.891494</td>\n",
              "      <td>39.149377</td>\n",
              "      <td>False</td>\n",
              "      <td>{'Label Encoder': {'positive_label': None}, 'I...</td>\n",
              "    </tr>\n",
              "    <tr>\n",
              "      <th>1</th>\n",
              "      <td>1</td>\n",
              "      <td>Logistic Regression Classifier w/ Label Encode...</td>\n",
              "      <td>1</td>\n",
              "      <td>0.857750</td>\n",
              "      <td>0.029353</td>\n",
              "      <td>0.857750</td>\n",
              "      <td>35.774980</td>\n",
              "      <td>False</td>\n",
              "      <td>{'Label Encoder': {'positive_label': None}, 'I...</td>\n",
              "    </tr>\n",
              "    <tr>\n",
              "      <th>2</th>\n",
              "      <td>0</td>\n",
              "      <td>Mode Baseline Binary Classification Pipeline</td>\n",
              "      <td>0</td>\n",
              "      <td>0.500000</td>\n",
              "      <td>0.000000</td>\n",
              "      <td>0.500000</td>\n",
              "      <td>0.000000</td>\n",
              "      <td>False</td>\n",
              "      <td>{'Label Encoder': {'positive_label': None}, 'B...</td>\n",
              "    </tr>\n",
              "  </tbody>\n",
              "</table>\n",
              "</div>"
            ],
            "text/plain": [
              "   id                                      pipeline_name  search_order  \\\n",
              "0   2  Random Forest Classifier w/ Label Encoder + Im...             2   \n",
              "1   1  Logistic Regression Classifier w/ Label Encode...             1   \n",
              "2   0       Mode Baseline Binary Classification Pipeline             0   \n",
              "\n",
              "   mean_cv_score  standard_deviation_cv_score  validation_score  \\\n",
              "0       0.891494                     0.023837          0.891494   \n",
              "1       0.857750                     0.029353          0.857750   \n",
              "2       0.500000                     0.000000          0.500000   \n",
              "\n",
              "   percent_better_than_baseline  high_variance_cv  \\\n",
              "0                     39.149377             False   \n",
              "1                     35.774980             False   \n",
              "2                      0.000000             False   \n",
              "\n",
              "                                          parameters  \n",
              "0  {'Label Encoder': {'positive_label': None}, 'I...  \n",
              "1  {'Label Encoder': {'positive_label': None}, 'I...  \n",
              "2  {'Label Encoder': {'positive_label': None}, 'B...  "
            ]
          },
          "execution_count": 16,
          "metadata": {},
          "output_type": "execute_result"
        }
      ],
      "source": [
        "automl_auc.rankings"
      ]
    },
    {
      "cell_type": "code",
      "execution_count": 17,
      "metadata": {
        "id": "BXaDs_5Jn0JY"
      },
      "outputs": [
        {
          "name": "stdout",
          "output_type": "stream",
          "text": [
            "\n",
            "*******************************************************\n",
            "* Random Forest Classifier w/ Label Encoder + Imputer *\n",
            "*******************************************************\n",
            "\n",
            "Problem Type: binary\n",
            "Model Family: Random Forest\n",
            "\n",
            "Pipeline Steps\n",
            "==============\n",
            "1. Label Encoder\n",
            "\t * positive_label : None\n",
            "2. Imputer\n",
            "\t * categorical_impute_strategy : most_frequent\n",
            "\t * numeric_impute_strategy : mean\n",
            "\t * categorical_fill_value : None\n",
            "\t * numeric_fill_value : None\n",
            "3. Random Forest Classifier\n",
            "\t * n_estimators : 100\n",
            "\t * max_depth : 6\n",
            "\t * n_jobs : -1\n",
            "\n",
            "Training\n",
            "========\n",
            "Training for binary problems.\n",
            "Total training time (including CV): 2.3 seconds\n",
            "\n",
            "Cross Validation\n",
            "----------------\n",
            "              AUC    F1  Precision # Training # Validation\n",
            "0           0.911 0.833      0.857        161           81\n",
            "1           0.899 0.795      0.806        161           81\n",
            "2           0.865 0.698      0.815        162           80\n",
            "mean        0.891 0.775      0.826          -            -\n",
            "std         0.024 0.069      0.028          -            -\n",
            "coef of var 0.027 0.090      0.033          -            -\n"
          ]
        }
      ],
      "source": [
        "automl_auc.describe_pipeline(automl_auc.rankings.iloc[0][\"id\"])"
      ]
    },
    {
      "cell_type": "code",
      "execution_count": 18,
      "metadata": {},
      "outputs": [],
      "source": [
        "best_pipeline_auc = automl_auc.best_pipeline"
      ]
    },
    {
      "cell_type": "code",
      "execution_count": 19,
      "metadata": {},
      "outputs": [
        {
          "data": {
            "text/plain": [
              "OrderedDict([('AUC', 0.9123376623376623)])"
            ]
          },
          "execution_count": 19,
          "metadata": {},
          "output_type": "execute_result"
        }
      ],
      "source": [
        "best_pipeline_auc.score(X_test, y_test, objectives=[\"auc\"])"
      ]
    },
    {
      "cell_type": "code",
      "execution_count": 20,
      "metadata": {},
      "outputs": [],
      "source": [
        "best_pipeline.save(\"model.pkl\")"
      ]
    },
    {
      "cell_type": "markdown",
      "metadata": {},
      "source": [
        "Loading our Model\n"
      ]
    },
    {
      "cell_type": "code",
      "execution_count": 21,
      "metadata": {},
      "outputs": [],
      "source": [
        "final_model = automl.load('model.pkl')"
      ]
    },
    {
      "cell_type": "code",
      "execution_count": 22,
      "metadata": {},
      "outputs": [
        {
          "data": {
            "text/plain": [
              "24     0\n",
              "67     1\n",
              "13     1\n",
              "112    1\n",
              "80     1\n",
              "      ..\n",
              "160    1\n",
              "234    0\n",
              "110    0\n",
              "190    0\n",
              "253    0\n",
              "Name: 1, Length: 61, dtype: int64"
            ]
          },
          "execution_count": 22,
          "metadata": {},
          "output_type": "execute_result"
        }
      ],
      "source": [
        "final_model.predict(X_test)"
      ]
    }
  ],
  "metadata": {
    "colab": {
      "name": "Heart Attack Risk Predictor.ipynb",
      "provenance": []
    },
    "kernelspec": {
      "display_name": "Python 3",
      "name": "python3"
    },
    "language_info": {
      "codemirror_mode": {
        "name": "ipython",
        "version": 3
      },
      "file_extension": ".py",
      "mimetype": "text/x-python",
      "name": "python",
      "nbconvert_exporter": "python",
      "pygments_lexer": "ipython3",
      "version": "3.9.1"
    }
  },
  "nbformat": 4,
  "nbformat_minor": 0
}
